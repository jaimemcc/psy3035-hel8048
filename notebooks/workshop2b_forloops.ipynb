{
 "cells": [
  {
   "cell_type": "markdown",
   "metadata": {},
   "source": [
    "# Workshop 2b - For-loops"
   ]
  },
  {
   "cell_type": "markdown",
   "metadata": {},
   "source": [
    "When we are programming, we often want to do the same operation many times or on many bits of data. This is one of the main ways that computers and coding can save us time.\n",
    "\n",
    "For example, imagine that we have ages (in years) of a group of people and we want to convert the ages into months."
   ]
  },
  {
   "cell_type": "code",
   "execution_count": null,
   "metadata": {},
   "outputs": [],
   "source": [
    "ages = [45, 34, 12, 6]\n",
    "\n",
    "# I can do this without a for-loop but it is annoying even with only four people.\n",
    "\n",
    "ages[0] * 12"
   ]
  },
  {
   "cell_type": "code",
   "execution_count": null,
   "metadata": {},
   "outputs": [],
   "source": [
    "ages[1] * 12"
   ]
  },
  {
   "cell_type": "code",
   "execution_count": null,
   "metadata": {},
   "outputs": [],
   "source": [
    "ages[2] * 12"
   ]
  },
  {
   "cell_type": "code",
   "execution_count": null,
   "metadata": {},
   "outputs": [],
   "source": [
    "ages [3] * 12"
   ]
  },
  {
   "cell_type": "markdown",
   "metadata": {},
   "source": [
    "Imagine if instead of doing this just four times, you wanted to do it for every UiT student or staff member."
   ]
  },
  {
   "cell_type": "markdown",
   "metadata": {},
   "source": [
    "Instead, with a for-loop we can apply the same operation again and again in a loop with just a small amount of code."
   ]
  },
  {
   "cell_type": "markdown",
   "metadata": {},
   "source": [
    "The basic syntax is...\n",
    "```\n",
    "for item in list:\n",
    "    do something\n",
    "```\n",
    "\n",
    "(1) item is a new variable you are creating when you start the for-loop. Make sure you don't use the same variable name as somewhere else in your code and ideally use a name that makes sense and is readable.\n",
    "\n",
    "(2) you can use for-loops on other types of variables, not just lists. We can discuss this later if interested.\n",
    "\n",
    "(3) the indenting is **very** important and Python uses it to tell it when the for-loop ends and it should move on to the next bit of code."
   ]
  },
  {
   "cell_type": "markdown",
   "metadata": {},
   "source": []
  },
  {
   "cell_type": "code",
   "execution_count": null,
   "metadata": {},
   "outputs": [],
   "source": [
    "ages = [45, 34, 12, 6]\n",
    "\n",
    "for current_age in ages:\n",
    "    print(current_age * 12) "
   ]
  },
  {
   "cell_type": "markdown",
   "metadata": {},
   "source": [
    "What if you want to store these calculations in a new list?"
   ]
  },
  {
   "cell_type": "code",
   "execution_count": null,
   "metadata": {},
   "outputs": [],
   "source": [
    "ages = [45, 34, 12, 6]\n",
    "\n",
    "ages_in_months = []\n",
    "for current_age in ages:\n",
    "    ages_in_months.append(current_age * 12)\n",
    "\n",
    "print(ages_in_months)"
   ]
  },
  {
   "cell_type": "markdown",
   "metadata": {},
   "source": [
    "Write a for-loop that converts the list of weights (in kg) below into weights in lb (pounds)."
   ]
  },
  {
   "cell_type": "code",
   "execution_count": 15,
   "metadata": {},
   "outputs": [],
   "source": [
    "weights_in_kg = [76, 55, 89, 115, 67]\n",
    "\n",
    "# you code here..."
   ]
  },
  {
   "cell_type": "markdown",
   "metadata": {},
   "source": [
    "If you finish early, investigate the following...\n",
    "* What data types or variables can you use a foor-loop with?\n",
    "* What does the function **enumerate()** do and how would you use it in a for-loop?\n",
    "* What does the function **zip()** do and how would you use it?\n",
    "* Write a for-loop that calculates the mean of a list of data."
   ]
  },
  {
   "cell_type": "code",
   "execution_count": null,
   "metadata": {},
   "outputs": [],
   "source": []
  }
 ],
 "metadata": {
  "kernelspec": {
   "display_name": "base",
   "language": "python",
   "name": "python3"
  },
  "language_info": {
   "codemirror_mode": {
    "name": "ipython",
    "version": 3
   },
   "file_extension": ".py",
   "mimetype": "text/x-python",
   "name": "python",
   "nbconvert_exporter": "python",
   "pygments_lexer": "ipython3",
   "version": "3.12.3"
  }
 },
 "nbformat": 4,
 "nbformat_minor": 2
}
