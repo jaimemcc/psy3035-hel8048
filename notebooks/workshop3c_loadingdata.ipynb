{
 "cells": [
  {
   "cell_type": "markdown",
   "metadata": {},
   "source": [
    "# Loading and plotting data"
   ]
  },
  {
   "cell_type": "markdown",
   "metadata": {},
   "source": [
    "In this notebook, we will load in a datafile so that we can work with the data. We'll start by exploring the data and then will go on to plot it with _matplotlib_."
   ]
  },
  {
   "cell_type": "markdown",
   "metadata": {},
   "source": [
    "## Loading data\n",
    "\n",
    "First, make sure you have the file `Pearson.txt` downloaded on your computer (you can get it from the _data_ folder in the _psy3035-hel8048_ repository)\n",
    "\n",
    "There are many types of datafile that you might want to work with in Python. Two of the simplest and most common are `.txt` and `.csv` files."
   ]
  },
  {
   "cell_type": "code",
   "execution_count": null,
   "metadata": {},
   "outputs": [],
   "source": [
    "# We will use a numpy function loadtxt to load in the data\n",
    "# You will have to change the string, FILENAME, to the path of the file on your computer\n",
    "\n",
    "import numpy as np\n",
    "from pathlib import Path\n",
    "\n",
    "FILENAME = Path(\"path-to-file\\Pearson.txt\")\n",
    "FILENAME = Path(\"..\\data\\Pearson.txt\")\n",
    "data = np.loadtxt(FILENAME)"
   ]
  },
  {
   "cell_type": "markdown",
   "metadata": {},
   "source": [
    "This should give us some sort of error. If you get a `FileNotFoundError` then you need to check the path you are using and adjust it until you can get rid of this error.\n",
    "\n",
    "The other error that you will get is a `ValueError`. Read this carefully because it tells you about what is going wrong. A useful thing to do when working with certain types of data is to try looking at the data in another program like Notepad or Excel. So let's do this. Find the file on your computer and open it in another program.\n",
    "\n",
    "When you do this, you should see that the file contains two columns of data with the headings, \"Father\" and \"Son\". The `ValueError` from _numpy_ makes sense in that it was expecting just numeric values and couldn't convert the string `\"father\"` to a number.\n",
    "\n",
    "Maybe the function `np.loadtxt` has a way of dealing with this. We can check by looking at the help for the function. You can get help for any function by putting its name and then a question mark."
   ]
  },
  {
   "cell_type": "code",
   "execution_count": null,
   "metadata": {},
   "outputs": [],
   "source": [
    "np.loadtxt?"
   ]
  },
  {
   "cell_type": "markdown",
   "metadata": {},
   "source": [
    "You can see one of the possible options we have is `skiprows`. We can use this to skip the header row and just read in the numbers. Let's try it."
   ]
  },
  {
   "cell_type": "code",
   "execution_count": 12,
   "metadata": {},
   "outputs": [],
   "source": [
    "data = np.loadtxt(FILENAME, skiprows=1)"
   ]
  },
  {
   "cell_type": "markdown",
   "metadata": {},
   "source": [
    "Now, we don't get an error and you can look at the data."
   ]
  },
  {
   "cell_type": "code",
   "execution_count": null,
   "metadata": {},
   "outputs": [],
   "source": [
    "data"
   ]
  },
  {
   "cell_type": "markdown",
   "metadata": {},
   "source": [
    "## Data structures"
   ]
  },
  {
   "cell_type": "markdown",
   "metadata": {},
   "source": [
    "Because we have used a _numpy_ function to read in the file, our data are in a numpy array (we can check by using `type(data)`).\n",
    "\n",
    "Numpy arrays have similarties with a `list` but can have two or more dimensions. They also have many in-built methods that you can use on them. One of these methods is `shape` which tells us the dimensions of the array. Let's try it."
   ]
  },
  {
   "cell_type": "code",
   "execution_count": null,
   "metadata": {},
   "outputs": [],
   "source": [
    "data.shape"
   ]
  },
  {
   "cell_type": "markdown",
   "metadata": {},
   "source": [
    "You can select different parts of the array using similar **indexing** methods as with lists. However, because you can have more than one dimension this can be a bit different"
   ]
  },
  {
   "cell_type": "code",
   "execution_count": null,
   "metadata": {},
   "outputs": [],
   "source": [
    "data[:, 0] # selects all rows, first column"
   ]
  },
  {
   "cell_type": "code",
   "execution_count": null,
   "metadata": {},
   "outputs": [],
   "source": [
    "data[:, 1] # selects all rows, second column"
   ]
  },
  {
   "cell_type": "code",
   "execution_count": null,
   "metadata": {},
   "outputs": [],
   "source": [
    "data[5,:] # what does this select???"
   ]
  },
  {
   "cell_type": "markdown",
   "metadata": {},
   "source": [
    "It is also possible to assign a subset of the data to a new variable."
   ]
  },
  {
   "cell_type": "code",
   "execution_count": null,
   "metadata": {},
   "outputs": [],
   "source": [
    "fathers = data[:,0]\n",
    "fathers.shape"
   ]
  },
  {
   "cell_type": "markdown",
   "metadata": {},
   "source": [
    "Use the **numpy** cheat sheet to  try out some of the different available functions on the whole dataset or on a subset of it."
   ]
  },
  {
   "cell_type": "markdown",
   "metadata": {},
   "source": [
    "## Plotting some data"
   ]
  },
  {
   "cell_type": "code",
   "execution_count": 21,
   "metadata": {},
   "outputs": [],
   "source": [
    "# The most common package for making graphs and figures in Python is called matplotlib\n",
    "# We will import the pyplot module from it using the alias plt\n",
    "\n",
    "import matplotlib.pyplot as plt"
   ]
  },
  {
   "cell_type": "code",
   "execution_count": null,
   "metadata": {},
   "outputs": [],
   "source": [
    "# We can initialise a figure and axis using the subplots function\n",
    "# We'll then use the hist function to plot a histogram of the data from father\n",
    "\n",
    "fig, ax = plt.subplots()\n",
    "ax.hist(fathers)\n"
   ]
  },
  {
   "cell_type": "markdown",
   "metadata": {},
   "source": [
    "Try adapting the code above to...\n",
    "1. Plot the _sons_ instead of the _fathers_\n",
    "2. Change the number of bins\n",
    "3. Change the colour\n",
    "4. Only plot data that are above a certain threshold\n",
    "\n",
    "Hint: use the help function for `ax.hist` or ask ChatGPT"
   ]
  },
  {
   "cell_type": "markdown",
   "metadata": {},
   "source": [
    "You can also make multipanel figures easily which is really useful if you want things to be aligned and axes to have the same values."
   ]
  },
  {
   "cell_type": "code",
   "execution_count": null,
   "metadata": {},
   "outputs": [],
   "source": [
    "# when we create this figure, we tell the subplots function that we want two columns\n",
    " \n",
    "fig, [ax1, ax2] = plt.subplots(ncols=2) #ax1 is the plot on the left and ax2 is the plot on the right\n",
    "\n",
    "ax1.hist(fathers, color=\"green\")\n",
    "\n",
    "# try to add a line to plot the histogram of the sons data on ax2"
   ]
  },
  {
   "cell_type": "markdown",
   "metadata": {},
   "source": [
    "In the code above, continue experimenting by trying the following...\n",
    "1. Changing colours or number of bins\n",
    "2. Use `sharey=True` as an argument for the `subplots` function\n",
    "3. Add labels and/or titles to the axes\n",
    "4. Try a different layout (e.g., two rows instead of two columns)\n",
    "5. Try a figure where the histograms are on the same plot (maybe add the `alpha` parameter when plotting)\n",
    "\n",
    "Hint: Use the matplotlib cheat sheet on Canvas and/or ask ChatGPT\n"
   ]
  },
  {
   "cell_type": "markdown",
   "metadata": {},
   "source": [
    "Finally, try making a scatter plot with the data and again experiment with different options."
   ]
  },
  {
   "cell_type": "code",
   "execution_count": 24,
   "metadata": {},
   "outputs": [],
   "source": [
    "# code for a scatter plot should go here"
   ]
  },
  {
   "cell_type": "markdown",
   "metadata": {},
   "source": []
  }
 ],
 "metadata": {
  "kernelspec": {
   "display_name": "Python 3",
   "language": "python",
   "name": "python3"
  },
  "language_info": {
   "codemirror_mode": {
    "name": "ipython",
    "version": 3
   },
   "file_extension": ".py",
   "mimetype": "text/x-python",
   "name": "python",
   "nbconvert_exporter": "python",
   "pygments_lexer": "ipython3",
   "version": "3.10.16"
  }
 },
 "nbformat": 4,
 "nbformat_minor": 2
}
