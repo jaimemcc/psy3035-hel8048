{
 "cells": [
  {
   "cell_type": "markdown",
   "metadata": {},
   "source": [
    "# Functions"
   ]
  },
  {
   "cell_type": "markdown",
   "metadata": {},
   "source": [
    "Functions are a key part of writing (and understanding code). You will use other people's functions (in fact, you already have) and one of the best ways to understand how to use a function is to write your own.\n",
    "\n",
    "Functions make your code a lot cleaner, more elegant, and re-usable. One rule-of-thumb you can use to work out when it is appropriate to write a function is to see if you are copy-pasting code a lot. If you are, then this means that you can probably put that code in a function to make your life easier.\n",
    "\n",
    "But let's start at the beginning with a very simple function..."
   ]
  },
  {
   "cell_type": "markdown",
   "metadata": {},
   "source": [
    "The format of a very simple function is as follows.\n",
    "```\n",
    "def name_of_function():\n",
    "    code_to_do_something\n",
    "```\n",
    "\n",
    "Here, the _name_of_function_ can be anything you want (except reserved Python words). However, it is good to get into the habit of giving your functions meaningful and understandable names. There is a whole chapter on this in The Art of Readable Code (link in Canvas)."
   ]
  },
  {
   "cell_type": "code",
   "execution_count": null,
   "metadata": {},
   "outputs": [],
   "source": [
    "def say_hello():\n",
    "    print(\"Hello there!\") # code to do something goes here\n",
    "\n",
    "# you call a function by using its name followed by parentheses\n",
    "say_hello()"
   ]
  },
  {
   "cell_type": "markdown",
   "metadata": {},
   "source": [
    "An important feature of functions is that you can pass them arguments, which can be thought of as either inouts to the function or options.\n",
    "\n",
    "There are two types of arguments: positional and optional arguments\n",
    "\n",
    "```\n",
    "def name_of_function(positional_arguments):\n",
    "    code_to_do_something\n",
    "```"
   ]
  },
  {
   "cell_type": "code",
   "execution_count": null,
   "metadata": {},
   "outputs": [],
   "source": [
    "def say_hello(name):\n",
    "    print(\"Hello there\", name) # code to do something goes here\n",
    "\n",
    "# you call a function by using its name followed by parentheses\n",
    "say_hello(\"Mo Salah\")\n",
    "\n",
    "# See what happens if you don't pass an argument to the function"
   ]
  },
  {
   "cell_type": "markdown",
   "metadata": {},
   "source": [
    "In the function above, we have one positional argument but you can write a function with as many positional arguments as you want. The important thing is that you pass the positional arguments to the function in the correct order.\n",
    "\n",
    "In the cell below, try writing a function that takes two positional arguments - name and age - and prints the name and tells them how old the person is."
   ]
  },
  {
   "cell_type": "code",
   "execution_count": null,
   "metadata": {},
   "outputs": [],
   "source": [
    "# your new function here..."
   ]
  },
  {
   "cell_type": "markdown",
   "metadata": {},
   "source": [
    "As well as positional arguments, we can have optional arguments. When we include optional arguments, we also have to provide them with a default value. We know they are optional because they will be in the form optional_arg=default_value.\n",
    "\n",
    "Optional arguments *must* come after all the positional arguments."
   ]
  },
  {
   "cell_type": "code",
   "execution_count": null,
   "metadata": {},
   "outputs": [],
   "source": [
    "# there is something wrong with this function. Can you fix it?\n",
    "\n",
    "def say_hello(language=\"English\", name):\n",
    "    if language == \"English\":\n",
    "        print(\"Hello there\", name)\n",
    "    else:\n",
    "        print(\"God morgen\", name)\n",
    "\n",
    "# you call a function by using its name followed by parentheses\n",
    "say_hello(\"Mo Salah\")\n",
    "say_hello(\"Mo Salah\", language=\"Norwegian\")\n",
    "\n",
    "\n",
    "# change the code in the function above so that it can also say hello in French"
   ]
  },
  {
   "cell_type": "code",
   "execution_count": null,
   "metadata": {},
   "outputs": [],
   "source": [
    "say_hello(\"Mo Salah\", language=\"French\")"
   ]
  },
  {
   "cell_type": "markdown",
   "metadata": {},
   "source": [
    "Often you want to get something back from the function\n",
    "\n",
    "```\n",
    "def name_of_function(positional_arguments):\n",
    "    thing = code_to_do_something\n",
    "    return thing\n",
    "```"
   ]
  },
  {
   "cell_type": "code",
   "execution_count": null,
   "metadata": {},
   "outputs": [],
   "source": [
    "def say_hello(name):\n",
    "    print(\"Hello there\", name) # code to do something goes here\n",
    "\n",
    "# you call a function by using its name followed by parentheses\n",
    "say_hello(\"Mo Salah\")"
   ]
  },
  {
   "cell_type": "markdown",
   "metadata": {},
   "source": [
    "### Docstrings\n",
    "\n",
    "The docstring of a function contains information about what the function does and how to use it. This is obviously useful for other people but can also be invaluable to yourslef when you come back to an old project after a few weeks/months/years.\n",
    "\n",
    "There are different formats that you can use. The most popukar are Google-style, numpy-style and REST-style. See the associated pages in the Good Research Code handbook.\n",
    "\n",
    "Good docstrings make producing documentation for your code a lot easier because there are tools that can automatically extract the docstrings and make thbem into help pages."
   ]
  },
  {
   "cell_type": "code",
   "execution_count": 4,
   "metadata": {},
   "outputs": [],
   "source": [
    "def say_hello(name, language=\"English\"):\n",
    "    \"\"\"\n",
    "    Greets a person with a message in the specified language.\n",
    "\n",
    "    Parameters:\n",
    "    name (str): The name of the person to greet.\n",
    "    language (str, optional): The language in which to greet. Defaults to \"English\".\n",
    "    \n",
    "    Returns:\n",
    "    str: A greeting message in the specified language.\n",
    "    \"\"\"\n",
    "\n",
    "    if language == \"English\":\n",
    "        greeting = \"Hello there {}\".format(name)\n",
    "    else:\n",
    "        greeting = \"God morgen {}\".format(name)\n",
    "\n",
    "    return greeting\n",
    "\n",
    "    "
   ]
  },
  {
   "cell_type": "code",
   "execution_count": null,
   "metadata": {},
   "outputs": [],
   "source": [
    "say_hello?"
   ]
  },
  {
   "cell_type": "markdown",
   "metadata": {},
   "source": [
    "## Appendix\n",
    "Differnece between functions and methods.\n",
    "OOP"
   ]
  }
 ],
 "metadata": {
  "kernelspec": {
   "display_name": "base",
   "language": "python",
   "name": "python3"
  },
  "language_info": {
   "codemirror_mode": {
    "name": "ipython",
    "version": 3
   },
   "file_extension": ".py",
   "mimetype": "text/x-python",
   "name": "python",
   "nbconvert_exporter": "python",
   "pygments_lexer": "ipython3",
   "version": "3.12.3"
  }
 },
 "nbformat": 4,
 "nbformat_minor": 2
}
