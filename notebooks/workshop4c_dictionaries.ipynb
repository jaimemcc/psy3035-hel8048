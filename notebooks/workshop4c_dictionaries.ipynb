{
 "cells": [
  {
   "cell_type": "markdown",
   "metadata": {},
   "source": [
    "# A quick introduction to dictionaries\n",
    "\n",
    "Dictionaries are a very important way of handling data in Python. Much of the time if you read in data to Python it will be read in as a dictionarey, especially if you are using an API. Therefore it is very useful to understand how to access data in a dictionary.\n",
    "\n",
    "Just as we learned that the square brackets `[]` are used to create a list, the braces `{}` are used to designate dictionaries."
   ]
  },
  {
   "cell_type": "code",
   "execution_count": null,
   "metadata": {},
   "outputs": [],
   "source": [
    "# you can make an empty dictionary like this\n",
    "\n",
    "empty_dictionary = {}\n",
    "\n",
    "print(empty_dictionary)"
   ]
  },
  {
   "cell_type": "markdown",
   "metadata": {},
   "source": [
    "To start making a useful dictionary, we should understand how the data inside it are structured. In a dictionary, we have **keys** and **values** and these are paired together. Keys are **strings** and values can be anything you want. Keys and values are separated by the colon (`:`). So for example, in the next cell we will make a dictionary that has two key-value pairs, one that stores `name` and one that stores `age`."
   ]
  },
  {
   "cell_type": "code",
   "execution_count": 2,
   "metadata": {},
   "outputs": [],
   "source": [
    "# This makes a dictionary with two key-value pairs\n",
    "\n",
    "my_dictionary = {\"name\": \"Solly\", \"age\": 26}"
   ]
  },
  {
   "cell_type": "code",
   "execution_count": null,
   "metadata": {},
   "outputs": [],
   "source": [
    "print(my_dictionary)"
   ]
  },
  {
   "cell_type": "code",
   "execution_count": null,
   "metadata": {},
   "outputs": [],
   "source": [
    "# You can access the value of a key using square brackets and the name of the key (as a string!)\n",
    "\n",
    "print(my_dictionary[\"name\"])"
   ]
  },
  {
   "cell_type": "code",
   "execution_count": null,
   "metadata": {},
   "outputs": [],
   "source": [
    "# write a line here that accesses the value of the \"age\" key in my_dictionary and prints it\n",
    "\n",
    "# your code here...."
   ]
  },
  {
   "cell_type": "code",
   "execution_count": null,
   "metadata": {},
   "outputs": [],
   "source": [
    "# It is possible to add new key-value pairs to an existing dictionary\n",
    "\n",
    "my_dictionary[\"city\"] = \"Brighton\"\n",
    "\n",
    "print(my_dictionary)"
   ]
  },
  {
   "cell_type": "code",
   "execution_count": null,
   "metadata": {},
   "outputs": [],
   "source": [
    "# Values do not have to be single items, they could also be lists or numpy arrays or even other dictionaries\n",
    "\n",
    "my_dictionary[\"favourite_foods\"] = [\"pizza\", \"chocolate\", \"ice cream\"]\n",
    "my_dictionary[\"favourite_numbers\"] = [1, 2, 3, 4, 5]\n",
    "my_dictionary[\"favourite_things\"] = {\"thing1\": \"raindrops on roses\", \"thing2\": \"whiskers on kittens\"}\n",
    "\n",
    "print(my_dictionary)"
   ]
  },
  {
   "cell_type": "markdown",
   "metadata": {},
   "source": [
    "This is starting to get a bit complicated to look at but the final example of a dictionary inside a dictionary comes in really useful sometimes. It's called a **nested dictionary** and so we will look at it a bit closer in the last bit of the notebook.\n",
    "\n",
    "One reason why it is worth thinking about and getting your head around is that often when we read data from an API it will be read in as a nested dictionary."
   ]
  },
  {
   "cell_type": "code",
   "execution_count": null,
   "metadata": {},
   "outputs": [],
   "source": [
    "# we can access the value of a key that is a list or dictionary in the same way as before\n",
    "\n",
    "print(my_dictionary[\"favourite_foods\"])"
   ]
  },
  {
   "cell_type": "code",
   "execution_count": null,
   "metadata": {},
   "outputs": [],
   "source": [
    "# for a nested dictionary we just end up with two or more sets of square brackets, e.g.\n",
    "\n",
    "print(my_dictionary[\"favourite_things\"][\"thing1\"])"
   ]
  },
  {
   "cell_type": "markdown",
   "metadata": {},
   "source": [
    "Now, sometimes you don't really know what the structure of your dictionary is like so it is useful to see what the keys are. You can get the keys using the dictionary method `.keys()`"
   ]
  },
  {
   "cell_type": "code",
   "execution_count": null,
   "metadata": {},
   "outputs": [],
   "source": [
    "# this will show me the keys in my_dictionary\n",
    "\n",
    "print(my_dictionary.keys())"
   ]
  },
  {
   "cell_type": "code",
   "execution_count": null,
   "metadata": {},
   "outputs": [],
   "source": [
    "# I can then look one layer down to see they keys in the nested dictionary\n",
    "\n",
    "print(my_dictionary[\"favourite_things\"].keys())"
   ]
  },
  {
   "cell_type": "markdown",
   "metadata": {},
   "source": [
    "Finally, sometimes we want to loop throuhg a dictionary. This can be done because dictionaries are *iterable* but it is useful to know how I get the keys and the values. If you just want the `keys` you can use the `.keys()` method from above."
   ]
  },
  {
   "cell_type": "code",
   "execution_count": null,
   "metadata": {},
   "outputs": [],
   "source": [
    "# This for loop just loops through the keys in my_dictionary and prints them\n",
    "\n",
    "for key in my_dictionary.keys():\n",
    "    print(key)"
   ]
  },
  {
   "cell_type": "markdown",
   "metadata": {},
   "source": [
    "The `.items()` method returns two objects, the `key` and the `value` so is more useful to use in many cases."
   ]
  },
  {
   "cell_type": "code",
   "execution_count": null,
   "metadata": {},
   "outputs": [],
   "source": [
    "# This loop will go through the keys and print out the value only of keys that have the word \"favourite\" in them\n",
    "\n",
    "for key, value in my_dictionary.items():\n",
    "    if \"favourite\" in key:\n",
    "        print(value)"
   ]
  },
  {
   "cell_type": "markdown",
   "metadata": {},
   "source": []
  }
 ],
 "metadata": {
  "kernelspec": {
   "display_name": "Python 3",
   "language": "python",
   "name": "python3"
  },
  "language_info": {
   "codemirror_mode": {
    "name": "ipython",
    "version": 3
   },
   "file_extension": ".py",
   "mimetype": "text/x-python",
   "name": "python",
   "nbconvert_exporter": "python",
   "pygments_lexer": "ipython3",
   "version": "3.10.16"
  }
 },
 "nbformat": 4,
 "nbformat_minor": 2
}
