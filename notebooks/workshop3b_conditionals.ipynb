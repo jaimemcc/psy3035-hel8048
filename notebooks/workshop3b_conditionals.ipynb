{
 "cells": [
  {
   "cell_type": "markdown",
   "metadata": {},
   "source": [
    "# Conditional statements"
   ]
  },
  {
   "cell_type": "markdown",
   "metadata": {},
   "source": [
    "Conditional statements are a fundamental concept in programming.\n",
    "```\n",
    "if something_is_True:\n",
    "    do_something\n",
    "```\n",
    "\n",
    "Note 1. The part _something_is_True_ camn be any statement that produces a Boolean value.\n",
    "\n",
    "Note 2. Just like with for-loops, the indenting is very important here."
   ]
  },
  {
   "cell_type": "markdown",
   "metadata": {},
   "source": [
    "## Boolean values\n",
    "A Boolean value is `True` or `False`. Some more info is provided in the Appendix."
   ]
  },
  {
   "cell_type": "code",
   "execution_count": null,
   "metadata": {},
   "outputs": [],
   "source": [
    "# First let's think about Boolean values and try some code that will produce them. \n",
    "\n",
    "name = \"Paul\"\n",
    "list_of_names = [\"Paul\", \"John\", \"George\", \"Ringo\"]\n",
    "\n",
    "name in list_of_names"
   ]
  },
  {
   "cell_type": "code",
   "execution_count": null,
   "metadata": {},
   "outputs": [],
   "source": [
    "a = 6\n",
    "a < 10"
   ]
  },
  {
   "cell_type": "code",
   "execution_count": null,
   "metadata": {},
   "outputs": [],
   "source": [
    "cat = \"Little Miss\"\n",
    "cat == \"Little Miss\" # notice the double equals sign here. This is how we check for equality."
   ]
  },
  {
   "cell_type": "code",
   "execution_count": null,
   "metadata": {},
   "outputs": [],
   "source": []
  },
  {
   "cell_type": "markdown",
   "metadata": {},
   "source": [
    "1. Try changing the code above to generate `False` instead of `True`\n",
    "2. Try using different operators, e.g. `>`, `|`, `!=`"
   ]
  },
  {
   "cell_type": "markdown",
   "metadata": {},
   "source": [
    "## A simple conditional statement"
   ]
  },
  {
   "cell_type": "code",
   "execution_count": null,
   "metadata": {},
   "outputs": [],
   "source": [
    "name = \"Paul\"\n",
    "\n",
    "if name == \"Paul\":\n",
    "    print(\"That is a boring name.\")"
   ]
  },
  {
   "cell_type": "code",
   "execution_count": 18,
   "metadata": {},
   "outputs": [],
   "source": [
    "# Try writing a conditional statement that will check if the name is in the list of boring names.\n",
    "\n",
    "list_of_boring_names = [\"Paul\", \"John\", \"James\", \"Fred\"]"
   ]
  },
  {
   "cell_type": "markdown",
   "metadata": {},
   "source": [
    "## if-else statements"
   ]
  },
  {
   "cell_type": "markdown",
   "metadata": {},
   "source": [
    "Often you want to do something else if the statment is False (like a yes/no decision tree)"
   ]
  },
  {
   "cell_type": "code",
   "execution_count": null,
   "metadata": {},
   "outputs": [],
   "source": [
    "# experiment with changing the name here to see what happens.\n",
    "\n",
    "name = \"Paul\"\n",
    "\n",
    "if name == \"Paul\":\n",
    "    print(name, \"is a boring name.\")\n",
    "else:\n",
    "    print(name, \"is a more exciting name than Paul.\")"
   ]
  },
  {
   "cell_type": "markdown",
   "metadata": {},
   "source": [
    "You can also check multiple statements using _elif_.\n",
    "\n",
    "```\n",
    "if something_is_True:\n",
    "    do_something\n",
    "\n",
    "elif something_else_is_True:\n",
    "    do_something_different\n",
    "    \n",
    "else:\n",
    "    do_something_else_different\n",
    "```"
   ]
  },
  {
   "cell_type": "code",
   "execution_count": null,
   "metadata": {},
   "outputs": [],
   "source": [
    "# Experiment with changing the name here to see what happens. Try changing the name to \"Ringo\" or something else completely.\n",
    "\n",
    "name = \"Paul\"\n",
    "\n",
    "if name == \"Paul\":\n",
    "    print(name, \"is a boring name.\")\n",
    "elif name == \"Ringo\":\n",
    "    print(name, \"is an awesome name.\")\n",
    "else:\n",
    "    print(name, \"is OK but it's not as good as Ringo.\")"
   ]
  },
  {
   "cell_type": "markdown",
   "metadata": {},
   "source": [
    "Often, you will use a for-loop together with a conditional statement. This lets you loop through your data."
   ]
  },
  {
   "cell_type": "code",
   "execution_count": null,
   "metadata": {},
   "outputs": [],
   "source": [
    "# Here, we are looping through a list of names and checking each one to see if it is in the list of boring names.\n",
    "# If it is, we print a message about it being boring.\n",
    "# If it is not, we print a message about it being more exciting than Paul.\n",
    "\n",
    "list_of_names = [\"Paul\", \"John\", \"George\", \"Ringo\"]\n",
    "\n",
    "for name in list_of_names:\n",
    "    if name == \"Paul\":\n",
    "        print(name, \"is a boring name.\")\n",
    "    elif name == \"Ringo\":\n",
    "        print(name, \"is an awesome name.\")\n",
    "    else:\n",
    "        print(name, \"is OK but it's not as good as Ringo.\")\n"
   ]
  },
  {
   "cell_type": "markdown",
   "metadata": {},
   "source": [
    "If this is getting a bit confusing, we can look at it in class and use the _debug_ function in Jupyter to step through the code and see what is happening at each step."
   ]
  },
  {
   "cell_type": "markdown",
   "metadata": {},
   "source": [
    "## Appendix"
   ]
  },
  {
   "cell_type": "markdown",
   "metadata": {},
   "source": [
    "## History of Boolean values\n",
    "\n",
    "(AI-generated summary checked briefly for accuracy by JM)\n",
    "\n",
    "Boolean values, representing true and false, are fundamental to computer science and logic. Here's a brief history:\n",
    "\n",
    "### Origins\n",
    "\n",
    "- **George Boole**:\n",
    "  - The term \"Boolean\" comes from George Boole, an English mathematician and logician.\n",
    "  - In 1854, Boole published \"An Investigation of the Laws of Thought,\" where he described an algebraic system of logic that became the foundation of Boolean algebra.\n",
    "\n",
    "### Development\n",
    "\n",
    "- **Boolean Algebra**:\n",
    "  - Boolean algebra is a branch of algebra that deals with true and false values instead of numbers.\n",
    "  - It uses operations like AND, OR, and NOT, which correspond to intersection, union, and complement in set theory.\n",
    "\n",
    "- **Digital Logic**:\n",
    "  - Claude Shannon, in his 1937 master's thesis, applied Boolean algebra to electrical circuits, laying the groundwork for digital circuit design.\n",
    "  - This work showed how Boolean algebra could be used to simplify the design of electrical circuits.\n",
    "\n",
    "### Modern Usage\n",
    "\n",
    "- **Programming Languages**:\n",
    "  - Boolean values (`True` and `False`) are now integral to most programming languages.\n",
    "  - They are used in control structures like `if` statements, loops, and logical operations.\n",
    "\n",
    "- **Computer Science**:\n",
    "  - Boolean logic is essential in computer science for algorithms, data structures, and software development.\n",
    "  - It is also fundamental in hardware design, where digital circuits operate using binary (0 and 1) logic.\n",
    "\n",
    "### Summary\n",
    "\n",
    "- **Name**: Derived from George Boole, who developed the algebraic system of logic.\n",
    "- **Significance**: Boolean values and algebra are crucial for logic, digital circuits, and programming.\n",
    "- **Modern Impact**: Integral to computer science, software development, and hardware design."
   ]
  },
  {
   "cell_type": "markdown",
   "metadata": {},
   "source": []
  }
 ],
 "metadata": {
  "kernelspec": {
   "display_name": "Python 3",
   "language": "python",
   "name": "python3"
  },
  "language_info": {
   "codemirror_mode": {
    "name": "ipython",
    "version": 3
   },
   "file_extension": ".py",
   "mimetype": "text/x-python",
   "name": "python",
   "nbconvert_exporter": "python",
   "pygments_lexer": "ipython3",
   "version": "3.10.16"
  }
 },
 "nbformat": 4,
 "nbformat_minor": 2
}
