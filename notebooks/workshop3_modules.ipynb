{
 "cells": [
  {
   "cell_type": "markdown",
   "metadata": {},
   "source": [
    "# Modules, packages, and libraries"
   ]
  },
  {
   "cell_type": "markdown",
   "metadata": {},
   "source": [
    "### The Tidy Kitchen Analogy\n",
    "* Modules are like the appliances in a kitchen\n",
    "* Some modules are always there (e.g., the fridge, the stove top)\n",
    "* Other modules you only get out of the cupboard when you need to use them (e.g., the waffle iron)\n",
    "* Some modules you have to go and “buy” if you don’t already own them (e.g., a smoothie maker)\n",
    "\n",
    "\n",
    "**Installing** a module is like going to “buy” it (but you don’t have to pay!)\n",
    "\n",
    "**Importing** a module is like getting it out of the cupboard\n"
   ]
  },
  {
   "cell_type": "markdown",
   "metadata": {},
   "source": [
    "## Importing packages"
   ]
  },
  {
   "cell_type": "code",
   "execution_count": null,
   "metadata": {},
   "outputs": [],
   "source": [
    "# Try to run this cell. You should get an error. Look at the error message.\n",
    "\n",
    "ages = [10, 20, 30, 40, 50]\n",
    "mean_of_ages = numpy.mean(ages)\n",
    "\n",
    "print(mean_of_ages)"
   ]
  },
  {
   "cell_type": "code",
   "execution_count": null,
   "metadata": {},
   "outputs": [],
   "source": [
    "# Here, we first need to import the numpy package before we can use it. We can do this by running the following code:\n",
    "import numpy\n",
    "\n",
    "ages = [10, 20, 30, 40, 50]\n",
    "mean_of_ages = numpy.mean(ages)\n",
    "\n",
    "print(mean_of_ages)\n"
   ]
  },
  {
   "cell_type": "markdown",
   "metadata": {},
   "source": [
    "You only need to import the package once for the whole notebook or script. Because of this, importing necessary lackages is normally the first thing that you do at the top of your notebook."
   ]
  },
  {
   "cell_type": "markdown",
   "metadata": {},
   "source": [
    "## Installing packages"
   ]
  },
  {
   "cell_type": "code",
   "execution_count": null,
   "metadata": {},
   "outputs": [],
   "source": [
    "# Try to run this cell. You should get an error. Again, look at the error message carefully.\n",
    "\n",
    "ages = [10, 20, 30, 40, 50]\n",
    "mean_and_sem_of_ages = trompy.mean_and_sem(ages)\n",
    "\n",
    "print(mean__and_sem_of_ages)"
   ]
  },
  {
   "cell_type": "code",
   "execution_count": null,
   "metadata": {},
   "outputs": [],
   "source": [
    "# We can try to fix it as we did above by importing the trompy package. However, this still doesn't work.\n",
    "# Look at this error message carefully because it is a very common one that is usually easy to fix.\n",
    "\n",
    "import trompy\n",
    "\n",
    "ages = [10, 20, 30, 40, 50]\n",
    "mean_and_sem_of_ages = trompy.mean_and_sem(ages)\n",
    "\n",
    "print(mean_and_sem_of_ages)"
   ]
  },
  {
   "cell_type": "markdown",
   "metadata": {},
   "source": [
    "This error message tells us that it cannot find the package we are trying to import. Once you know this, it is easy to fix it as it will be due to one of the following reasons.\n",
    "1. We have a typo in our code. E.g., if you try to import _numpi_ or _nmpy_ you would get an error even if you have _numpy_ installed.\n",
    "2. You have not yet installed the package on you computer.\n",
    "3. (Advanced) you have not installed the package in your current environment (I'll explain more in class)"
   ]
  },
  {
   "cell_type": "markdown",
   "metadata": {},
   "source": [
    "In our case, #2 is the correct reason. _trompy_ is a package that I have written and so it is not included in the standard Python library. To install it we have to do the following steps.\n",
    "1. Open a new Anaconda command prompt.\n",
    "2. (optional) Activate the environment you want to install in.\n",
    "3. Install the package using either `conda install...` or `pip install...`"
   ]
  },
  {
   "cell_type": "markdown",
   "metadata": {},
   "source": [
    "We have to use _pip_ to install the package. We can do this by running the following code in the terminal:\n",
    "```\n",
    "pip install trompy\n",
    "```"
   ]
  },
  {
   "cell_type": "code",
   "execution_count": null,
   "metadata": {},
   "outputs": [],
   "source": [
    "# Back in our notebook, this code should now work.\n",
    "\n",
    "import trompy\n",
    "\n",
    "ages = [10, 20, 30, 40, 50]\n",
    "mean_and_sem_of_ages = trompy.mean_and_sem(ages)\n",
    "\n",
    "print(mean_and_sem_of_ages)"
   ]
  },
  {
   "cell_type": "markdown",
   "metadata": {},
   "source": [
    "## Importing specific packages\n",
    "\n",
    "We can look at all the modules and functions included in a package by running `dir`."
   ]
  },
  {
   "cell_type": "code",
   "execution_count": null,
   "metadata": {},
   "outputs": [],
   "source": [
    "dir(trompy)"
   ]
  },
  {
   "cell_type": "markdown",
   "metadata": {},
   "source": [
    "If we only want a specific function we might just import it. This can make the code run faster, be tidier, and also be easier to read (because we know why we are importing a package right from the start)."
   ]
  },
  {
   "cell_type": "code",
   "execution_count": null,
   "metadata": {},
   "outputs": [],
   "source": [
    "from trompy import mean_and_sem\n",
    "\n",
    "ages = [10, 20, 30, 40, 50]\n",
    "mean_and_sem_of_ages = mean_and_sem(ages) # notice that now I can just use the function name and do not need the prefix \"trompy.\"\n",
    "\n",
    "print(mean_and_sem_of_ages)"
   ]
  },
  {
   "cell_type": "markdown",
   "metadata": {},
   "source": [
    "## Aliases\n",
    "\n",
    "To make the code quicker to write and read, we can use an alias when we import a package. This is common for many packages including _numpy_ which is often imported as _np_."
   ]
  },
  {
   "cell_type": "code",
   "execution_count": null,
   "metadata": {},
   "outputs": [],
   "source": [
    "import numpy as np\n",
    "\n",
    "ages = [10, 20, 30, 40, 50]\n",
    "mean_of_ages = np.mean(ages) # now I use np as a prefix instead of numpy\n",
    "\n",
    "print(mean_of_ages)"
   ]
  },
  {
   "cell_type": "markdown",
   "metadata": {},
   "source": [
    "Other common aliases are:\n",
    "* import pandas as pd\n",
    "* import matplotlib.pyplot as plt\n",
    "* import seaborn as sns"
   ]
  },
  {
   "cell_type": "markdown",
   "metadata": {},
   "source": [
    "## Appendix"
   ]
  },
  {
   "cell_type": "markdown",
   "metadata": {},
   "source": [
    "Here is a AI-generated explanation of the difference between modules, packages, and libraries\n",
    "\n",
    "In Python, the terms \"modules,\" \"packages,\" and \"libraries\" are often used interchangeably, but they have distinct meanings:\n",
    "\n",
    "1. Module:\n",
    "\n",
    "A module is a single file containing Python code. It can define functions, classes, and variables. It can also include runnable code.\n",
    "Example: math.py is a module that provides mathematical functions.\n",
    "\n",
    "2. Package:\n",
    "\n",
    "A package is a collection of modules organized in directories that include a special __init__.py file. This file can be empty or execute initialization code for the package.\n",
    "Packages allow for a hierarchical structuring of the module namespace using dot notation.\n",
    "Example: numpy is a package that contains multiple modules for numerical operations.\n",
    "\n",
    "3. Library:\n",
    "\n",
    "A library is a collection of modules and packages that provide a set of functionalities. Libraries are broader in scope and can include multiple packages and modules.\n",
    "Example: The Python Standard Library is a collection of modules and packages that come with Python, providing a wide range of functionalities."
   ]
  },
  {
   "cell_type": "markdown",
   "metadata": {},
   "source": []
  }
 ],
 "metadata": {
  "kernelspec": {
   "display_name": "Python 3",
   "language": "python",
   "name": "python3"
  },
  "language_info": {
   "codemirror_mode": {
    "name": "ipython",
    "version": 3
   },
   "file_extension": ".py",
   "mimetype": "text/x-python",
   "name": "python",
   "nbconvert_exporter": "python",
   "pygments_lexer": "ipython3",
   "version": "3.10.16"
  }
 },
 "nbformat": 4,
 "nbformat_minor": 2
}
