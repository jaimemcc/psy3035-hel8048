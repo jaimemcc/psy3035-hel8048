{
 "cells": [
  {
   "cell_type": "code",
   "execution_count": 3,
   "id": "e3c78655-87be-40cd-b09d-6355a7dab204",
   "metadata": {},
   "outputs": [],
   "source": [
    "from pathlib import Path\n",
    "import pandas as pd"
   ]
  },
  {
   "cell_type": "code",
   "execution_count": 7,
   "id": "22bb25f3-a487-45d4-86c7-7192e050c9e7",
   "metadata": {},
   "outputs": [],
   "source": [
    "initial_df = pd.read_csv(Path(\"..//data//best artists_RS.csv\"))"
   ]
  },
  {
   "cell_type": "code",
   "execution_count": 8,
   "id": "23753669-d4ba-4271-b457-5e9133a7c6cd",
   "metadata": {},
   "outputs": [
    {
     "data": {
      "text/plain": [
       "Index(['Rolling Stone Magazine Rank', 'Artist', 'Racial/Ethnic group',\n",
       "       'Main Grammy awards', 'Main Grammy Nominations', 'Total Awards',\n",
       "       'Total Nominations', 'UK number 1's'],\n",
       "      dtype='object')"
      ]
     },
     "execution_count": 8,
     "metadata": {},
     "output_type": "execute_result"
    }
   ],
   "source": [
    "initial_df.columns"
   ]
  },
  {
   "cell_type": "code",
   "execution_count": 25,
   "id": "93abe830-e1f0-4ad6-83ac-500a58f02f10",
   "metadata": {},
   "outputs": [],
   "source": [
    "def tweak_df(df):\n",
    "\n",
    "    return (df\n",
    "            .rename(columns={\"Rolling Stone Magazine Rank\": \"rank_rs\",\n",
    "                             \"Artist\": \"artist\"})\n",
    "           )\n",
    "\n",
    "new_df = tweak_df(initial_df)"
   ]
  },
  {
   "cell_type": "code",
   "execution_count": 26,
   "id": "5cdc3009-184a-4359-84e9-d47f4740c8d7",
   "metadata": {},
   "outputs": [
    {
     "data": {
      "text/html": [
       "<div>\n",
       "<style scoped>\n",
       "    .dataframe tbody tr th:only-of-type {\n",
       "        vertical-align: middle;\n",
       "    }\n",
       "\n",
       "    .dataframe tbody tr th {\n",
       "        vertical-align: top;\n",
       "    }\n",
       "\n",
       "    .dataframe thead th {\n",
       "        text-align: right;\n",
       "    }\n",
       "</style>\n",
       "<table border=\"1\" class=\"dataframe\">\n",
       "  <thead>\n",
       "    <tr style=\"text-align: right;\">\n",
       "      <th></th>\n",
       "      <th>rank_rs</th>\n",
       "      <th>Main Grammy awards</th>\n",
       "      <th>Main Grammy Nominations</th>\n",
       "      <th>Total Awards</th>\n",
       "      <th>Total Nominations</th>\n",
       "      <th>UK number 1's</th>\n",
       "    </tr>\n",
       "  </thead>\n",
       "  <tbody>\n",
       "    <tr>\n",
       "      <th>count</th>\n",
       "      <td>100.000000</td>\n",
       "      <td>100.000000</td>\n",
       "      <td>100.000000</td>\n",
       "      <td>100.000000</td>\n",
       "      <td>100.000000</td>\n",
       "      <td>100.000000</td>\n",
       "    </tr>\n",
       "    <tr>\n",
       "      <th>mean</th>\n",
       "      <td>50.500000</td>\n",
       "      <td>0.340000</td>\n",
       "      <td>1.440000</td>\n",
       "      <td>3.700000</td>\n",
       "      <td>11.710000</td>\n",
       "      <td>1.390000</td>\n",
       "    </tr>\n",
       "    <tr>\n",
       "      <th>std</th>\n",
       "      <td>29.011492</td>\n",
       "      <td>0.997168</td>\n",
       "      <td>2.652691</td>\n",
       "      <td>5.786609</td>\n",
       "      <td>15.729593</td>\n",
       "      <td>3.422726</td>\n",
       "    </tr>\n",
       "    <tr>\n",
       "      <th>min</th>\n",
       "      <td>1.000000</td>\n",
       "      <td>0.000000</td>\n",
       "      <td>0.000000</td>\n",
       "      <td>0.000000</td>\n",
       "      <td>0.000000</td>\n",
       "      <td>0.000000</td>\n",
       "    </tr>\n",
       "    <tr>\n",
       "      <th>25%</th>\n",
       "      <td>25.750000</td>\n",
       "      <td>0.000000</td>\n",
       "      <td>0.000000</td>\n",
       "      <td>0.000000</td>\n",
       "      <td>1.000000</td>\n",
       "      <td>0.000000</td>\n",
       "    </tr>\n",
       "    <tr>\n",
       "      <th>50%</th>\n",
       "      <td>50.500000</td>\n",
       "      <td>0.000000</td>\n",
       "      <td>0.000000</td>\n",
       "      <td>1.000000</td>\n",
       "      <td>4.500000</td>\n",
       "      <td>0.000000</td>\n",
       "    </tr>\n",
       "    <tr>\n",
       "      <th>75%</th>\n",
       "      <td>75.250000</td>\n",
       "      <td>0.000000</td>\n",
       "      <td>2.000000</td>\n",
       "      <td>5.000000</td>\n",
       "      <td>16.500000</td>\n",
       "      <td>1.000000</td>\n",
       "    </tr>\n",
       "    <tr>\n",
       "      <th>max</th>\n",
       "      <td>100.000000</td>\n",
       "      <td>6.000000</td>\n",
       "      <td>11.000000</td>\n",
       "      <td>25.000000</td>\n",
       "      <td>77.000000</td>\n",
       "      <td>21.000000</td>\n",
       "    </tr>\n",
       "  </tbody>\n",
       "</table>\n",
       "</div>"
      ],
      "text/plain": [
       "          rank_rs  Main Grammy awards  Main Grammy Nominations  Total Awards  \\\n",
       "count  100.000000          100.000000               100.000000    100.000000   \n",
       "mean    50.500000            0.340000                 1.440000      3.700000   \n",
       "std     29.011492            0.997168                 2.652691      5.786609   \n",
       "min      1.000000            0.000000                 0.000000      0.000000   \n",
       "25%     25.750000            0.000000                 0.000000      0.000000   \n",
       "50%     50.500000            0.000000                 0.000000      1.000000   \n",
       "75%     75.250000            0.000000                 2.000000      5.000000   \n",
       "max    100.000000            6.000000                11.000000     25.000000   \n",
       "\n",
       "       Total Nominations  UK number 1's  \n",
       "count         100.000000     100.000000  \n",
       "mean           11.710000       1.390000  \n",
       "std            15.729593       3.422726  \n",
       "min             0.000000       0.000000  \n",
       "25%             1.000000       0.000000  \n",
       "50%             4.500000       0.000000  \n",
       "75%            16.500000       1.000000  \n",
       "max            77.000000      21.000000  "
      ]
     },
     "execution_count": 26,
     "metadata": {},
     "output_type": "execute_result"
    }
   ],
   "source": [
    "new_df.describe()"
   ]
  },
  {
   "cell_type": "code",
   "execution_count": 21,
   "id": "337002c9-4ba6-4d30-930d-334fe3f4fac7",
   "metadata": {},
   "outputs": [],
   "source": [
    "x = new_df[\"Main Grammy awards\"]\n",
    "y = new_df[\"Main Grammy Nominations\"]"
   ]
  },
  {
   "cell_type": "code",
   "execution_count": 29,
   "id": "307df901-7acf-47da-85a1-d0f908d406b1",
   "metadata": {},
   "outputs": [
    {
     "ename": "SyntaxError",
     "evalue": "invalid syntax (2536700453.py, line 1)",
     "output_type": "error",
     "traceback": [
      "\u001b[1;36m  Cell \u001b[1;32mIn[29], line 1\u001b[1;36m\u001b[0m\n\u001b[1;33m    new_df.Main Grammy awards\u001b[0m\n\u001b[1;37m                ^\u001b[0m\n\u001b[1;31mSyntaxError\u001b[0m\u001b[1;31m:\u001b[0m invalid syntax\n"
     ]
    }
   ],
   "source": [
    "new_df.Main Grammy awards"
   ]
  },
  {
   "cell_type": "code",
   "execution_count": 22,
   "id": "28301a45-8730-481c-b0c4-f150b0e106bc",
   "metadata": {},
   "outputs": [
    {
     "data": {
      "text/plain": [
       "<matplotlib.collections.PathCollection at 0x2c90163a810>"
      ]
     },
     "execution_count": 22,
     "metadata": {},
     "output_type": "execute_result"
    },
    {
     "data": {
      "image/png": "[encoded data removed]",
      "text/plain": [
       "<Figure size 640x480 with 1 Axes>"
      ]
     },
     "metadata": {},
     "output_type": "display_data"
    }
   ],
   "source": [
    "import matplotlib.pyplot as plt\n",
    "\n",
    "plt.scatter(x,y)"
   ]
  },
  {
   "cell_type": "code",
   "execution_count": 15,
   "id": "3ecb594a-b993-4ee8-ad69-3e2d985a21ab",
   "metadata": {},
   "outputs": [
    {
     "data": {
      "text/plain": [
       "\u001b[1;31mSignature:\u001b[0m\n",
       "\u001b[0mnew_df\u001b[0m\u001b[1;33m.\u001b[0m\u001b[0mrename\u001b[0m\u001b[1;33m(\u001b[0m\u001b[1;33m\n",
       "\u001b[0m    \u001b[0mmapper\u001b[0m\u001b[1;33m:\u001b[0m \u001b[1;34m'Renamer | None'\u001b[0m \u001b[1;33m=\u001b[0m \u001b[1;32mNone\u001b[0m\u001b[1;33m,\u001b[0m\u001b[1;33m\n",
       "\u001b[0m    \u001b[1;33m*\u001b[0m\u001b[1;33m,\u001b[0m\u001b[1;33m\n",
       "\u001b[0m    \u001b[0mindex\u001b[0m\u001b[1;33m:\u001b[0m \u001b[1;34m'Renamer | None'\u001b[0m \u001b[1;33m=\u001b[0m \u001b[1;32mNone\u001b[0m\u001b[1;33m,\u001b[0m\u001b[1;33m\n",
       "\u001b[0m    \u001b[0mcolumns\u001b[0m\u001b[1;33m:\u001b[0m \u001b[1;34m'Renamer | None'\u001b[0m \u001b[1;33m=\u001b[0m \u001b[1;32mNone\u001b[0m\u001b[1;33m,\u001b[0m\u001b[1;33m\n",
       "\u001b[0m    \u001b[0maxis\u001b[0m\u001b[1;33m:\u001b[0m \u001b[1;34m'Axis | None'\u001b[0m \u001b[1;33m=\u001b[0m \u001b[1;32mNone\u001b[0m\u001b[1;33m,\u001b[0m\u001b[1;33m\n",
       "\u001b[0m    \u001b[0mcopy\u001b[0m\u001b[1;33m:\u001b[0m \u001b[1;34m'bool | None'\u001b[0m \u001b[1;33m=\u001b[0m \u001b[1;32mNone\u001b[0m\u001b[1;33m,\u001b[0m\u001b[1;33m\n",
       "\u001b[0m    \u001b[0minplace\u001b[0m\u001b[1;33m:\u001b[0m \u001b[1;34m'bool'\u001b[0m \u001b[1;33m=\u001b[0m \u001b[1;32mFalse\u001b[0m\u001b[1;33m,\u001b[0m\u001b[1;33m\n",
       "\u001b[0m    \u001b[0mlevel\u001b[0m\u001b[1;33m:\u001b[0m \u001b[1;34m'Level | None'\u001b[0m \u001b[1;33m=\u001b[0m \u001b[1;32mNone\u001b[0m\u001b[1;33m,\u001b[0m\u001b[1;33m\n",
       "\u001b[0m    \u001b[0merrors\u001b[0m\u001b[1;33m:\u001b[0m \u001b[1;34m'IgnoreRaise'\u001b[0m \u001b[1;33m=\u001b[0m \u001b[1;34m'ignore'\u001b[0m\u001b[1;33m,\u001b[0m\u001b[1;33m\n",
       "\u001b[0m\u001b[1;33m)\u001b[0m \u001b[1;33m->\u001b[0m \u001b[1;34m'DataFrame | None'\u001b[0m\u001b[1;33m\u001b[0m\u001b[1;33m\u001b[0m\u001b[0m\n",
       "\u001b[1;31mDocstring:\u001b[0m\n",
       "Rename columns or index labels.\n",
       "\n",
       "Function / dict values must be unique (1-to-1). Labels not contained in\n",
       "a dict / Series will be left as-is. Extra labels listed don't throw an\n",
       "error.\n",
       "\n",
       "See the :ref:`user guide <basics.rename>` for more.\n",
       "\n",
       "Parameters\n",
       "----------\n",
       "mapper : dict-like or function\n",
       "    Dict-like or function transformations to apply to\n",
       "    that axis' values. Use either ``mapper`` and ``axis`` to\n",
       "    specify the axis to target with ``mapper``, or ``index`` and\n",
       "    ``columns``.\n",
       "index : dict-like or function\n",
       "    Alternative to specifying axis (``mapper, axis=0``\n",
       "    is equivalent to ``index=mapper``).\n",
       "columns : dict-like or function\n",
       "    Alternative to specifying axis (``mapper, axis=1``\n",
       "    is equivalent to ``columns=mapper``).\n",
       "axis : {0 or 'index', 1 or 'columns'}, default 0\n",
       "    Axis to target with ``mapper``. Can be either the axis name\n",
       "    ('index', 'columns') or number (0, 1). The default is 'index'.\n",
       "copy : bool, default True\n",
       "    Also copy underlying data.\n",
       "\n",
       "    .. note::\n",
       "        The `copy` keyword will change behavior in pandas 3.0.\n",
       "        `Copy-on-Write\n",
       "        <https://pandas.pydata.org/docs/dev/user_guide/copy_on_write.html>`__\n",
       "        will be enabled by default, which means that all methods with a\n",
       "        `copy` keyword will use a lazy copy mechanism to defer the copy and\n",
       "        ignore the `copy` keyword. The `copy` keyword will be removed in a\n",
       "        future version of pandas.\n",
       "\n",
       "        You can already get the future behavior and improvements through\n",
       "        enabling copy on write ``pd.options.mode.copy_on_write = True``\n",
       "inplace : bool, default False\n",
       "    Whether to modify the DataFrame rather than creating a new one.\n",
       "    If True then value of copy is ignored.\n",
       "level : int or level name, default None\n",
       "    In case of a MultiIndex, only rename labels in the specified\n",
       "    level.\n",
       "errors : {'ignore', 'raise'}, default 'ignore'\n",
       "    If 'raise', raise a `KeyError` when a dict-like `mapper`, `index`,\n",
       "    or `columns` contains labels that are not present in the Index\n",
       "    being transformed.\n",
       "    If 'ignore', existing keys will be renamed and extra keys will be\n",
       "    ignored.\n",
       "\n",
       "Returns\n",
       "-------\n",
       "DataFrame or None\n",
       "    DataFrame with the renamed axis labels or None if ``inplace=True``.\n",
       "\n",
       "Raises\n",
       "------\n",
       "KeyError\n",
       "    If any of the labels is not found in the selected axis and\n",
       "    \"errors='raise'\".\n",
       "\n",
       "See Also\n",
       "--------\n",
       "DataFrame.rename_axis : Set the name of the axis.\n",
       "\n",
       "Examples\n",
       "--------\n",
       "``DataFrame.rename`` supports two calling conventions\n",
       "\n",
       "* ``(index=index_mapper, columns=columns_mapper, ...)``\n",
       "* ``(mapper, axis={'index', 'columns'}, ...)``\n",
       "\n",
       "We *highly* recommend using keyword arguments to clarify your\n",
       "intent.\n",
       "\n",
       "Rename columns using a mapping:\n",
       "\n",
       ">>> df = pd.DataFrame({\"A\": [1, 2, 3], \"B\": [4, 5, 6]})\n",
       ">>> df.rename(columns={\"A\": \"a\", \"B\": \"c\"})\n",
       "   a  c\n",
       "0  1  4\n",
       "1  2  5\n",
       "2  3  6\n",
       "\n",
       "Rename index using a mapping:\n",
       "\n",
       ">>> df.rename(index={0: \"x\", 1: \"y\", 2: \"z\"})\n",
       "   A  B\n",
       "x  1  4\n",
       "y  2  5\n",
       "z  3  6\n",
       "\n",
       "Cast index labels to a different type:\n",
       "\n",
       ">>> df.index\n",
       "RangeIndex(start=0, stop=3, step=1)\n",
       ">>> df.rename(index=str).index\n",
       "Index(['0', '1', '2'], dtype='object')\n",
       "\n",
       ">>> df.rename(columns={\"A\": \"a\", \"B\": \"b\", \"C\": \"c\"}, errors=\"raise\")\n",
       "Traceback (most recent call last):\n",
       "KeyError: ['C'] not found in axis\n",
       "\n",
       "Using axis-style parameters:\n",
       "\n",
       ">>> df.rename(str.lower, axis='columns')\n",
       "   a  b\n",
       "0  1  4\n",
       "1  2  5\n",
       "2  3  6\n",
       "\n",
       ">>> df.rename({1: 2, 2: 4}, axis='index')\n",
       "   A  B\n",
       "0  1  4\n",
       "2  2  5\n",
       "4  3  6\n",
       "\u001b[1;31mFile:\u001b[0m      c:\\users\\jmc010\\appdata\\local\\miniconda3\\lib\\site-packages\\pandas\\core\\frame.py\n",
       "\u001b[1;31mType:\u001b[0m      method"
      ]
     },
     "metadata": {},
     "output_type": "display_data"
    }
   ],
   "source": [
    "new_df.rename?"
   ]
  },
  {
   "cell_type": "code",
   "execution_count": null,
   "id": "008d8fea-e7d0-4eed-b438-419b3070a2ed",
   "metadata": {},
   "outputs": [],
   "source": []
  }
 ],
 "metadata": {
  "kernelspec": {
   "display_name": "Python 3 (ipykernel)",
   "language": "python",
   "name": "python3"
  },
  "language_info": {
   "codemirror_mode": {
    "name": "ipython",
    "version": 3
   },
   "file_extension": ".py",
   "mimetype": "text/x-python",
   "name": "python",
   "nbconvert_exporter": "python",
   "pygments_lexer": "ipython3",
   "version": "3.12.3"
  }
 },
 "nbformat": 4,
 "nbformat_minor": 5
}
