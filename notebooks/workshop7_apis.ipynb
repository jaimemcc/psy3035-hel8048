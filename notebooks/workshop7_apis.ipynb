{
 "cells": [
  {
   "cell_type": "markdown",
   "metadata": {},
   "source": [
    "# APIS"
   ]
  },
  {
   "cell_type": "markdown",
   "metadata": {},
   "source": [
    "## Google Translate API"
   ]
  },
  {
   "cell_type": "code",
   "execution_count": null,
   "metadata": {},
   "outputs": [],
   "source": [
    "import requests\n",
    "\n",
    "url = \"https://google-translate113.p.rapidapi.com/api/v1/translator/text\"\n",
    "\n",
    "payload = {\n",
    "\t\"from\": \"auto\",\n",
    "\t\"to\": \"en\",\n",
    "\t\"text\": \"Xin chào cảm ơn bạn đã sử dụng dịch vụ của chúng tôi\"\n",
    "}\n",
    "headers = {\n",
    "\t\"x-rapidapi-key\": \"53961700a6mshca980831f27c18dp12c006jsnd1e67b5636bf\",\n",
    "\t\"x-rapidapi-host\": \"google-translate113.p.rapidapi.com\",\n",
    "\t\"Content-Type\": \"application/json\"\n",
    "}\n",
    "\n",
    "response = requests.post(url, json=payload, headers=headers)\n",
    "\n",
    "print(response.json())"
   ]
  },
  {
   "cell_type": "markdown",
   "metadata": {},
   "source": [
    "## Weather"
   ]
  },
  {
   "cell_type": "code",
   "execution_count": null,
   "metadata": {},
   "outputs": [],
   "source": [
    "import requests\n",
    "\n",
    "url = \"https://weatherbit-v1-mashape.p.rapidapi.com/forecast/3hourly\"\n",
    "\n",
    "querystring = {\"lat\":\"69.6\",\"lon\":\"18.9\",\"units\":\"metric\",\"lang\":\"en\"}\n",
    "\n",
    "headers = {\n",
    "\t\"x-rapidapi-key\": \"53961700a6mshca980831f27c18dp12c006jsnd1e67b5636bf\",\n",
    "\t\"x-rapidapi-host\": \"weatherbit-v1-mashape.p.rapidapi.com\"\n",
    "}\n",
    "\n",
    "response = requests.get(url, headers=headers, params=querystring)\n",
    "\n",
    "print(response.json())"
   ]
  },
  {
   "cell_type": "markdown",
   "metadata": {},
   "source": [
    "## Football"
   ]
  },
  {
   "cell_type": "markdown",
   "metadata": {},
   "source": []
  }
 ],
 "metadata": {
  "kernelspec": {
   "display_name": "Python 3",
   "language": "python",
   "name": "python3"
  },
  "language_info": {
   "codemirror_mode": {
    "name": "ipython",
    "version": 3
   },
   "file_extension": ".py",
   "mimetype": "text/x-python",
   "name": "python",
   "nbconvert_exporter": "python",
   "pygments_lexer": "ipython3",
   "version": "3.10.16"
  }
 },
 "nbformat": 4,
 "nbformat_minor": 2
}
